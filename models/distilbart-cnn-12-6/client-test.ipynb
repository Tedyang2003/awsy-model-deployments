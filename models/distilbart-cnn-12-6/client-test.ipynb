{
 "cells": [
  {
   "cell_type": "markdown",
   "metadata": {},
   "source": [
    "## Distilbart-cnn-12-6 Deployment\n",
    "\n",
    "### Model Description\n",
    "DistilBART-CNN-12-6 is a variant of the BART (Bidirectional and Auto-Regressive Transformers) model, specifically distilled for summarization tasks.\n",
    "\n",
    "It was designed to be more efficient while retaining much of the performance of its larger counterpart, BART. Distillation refers to a process where a smaller model is trained to mimic the behavior of a larger, more complex model. \n",
    "\n",
    "This particular model is fine-tuned for summarization tasks, particularly on the CNN/Daily Mail dataset, which is commonly used for news article summarization. \n",
    "\n",
    "It generates summaries by processing long articles and reducing them to more concise, readable versions while preserving key information.\n",
    "\n",
    "I followed https://huggingface.co/docs/transformers/model_doc/bart#transformers.BartForConditionalGeneration as a reference\n",
    "\n",
    "---\n",
    "\n",
    "### Model Interaction\n",
    "The model expects a string-based input, which typically consists of a news article, a long piece of text, or any other content that needs summarizing. \n",
    "\n",
    "The input is max 1024 tokens and will be truncated internally if exceed.\n",
    "\n",
    "**Example Input**:\n",
    "\n",
    "\"The stock market saw a major downturn today, with the Dow Jones Industrial Average dropping 500 points. Analysts attribute this decline to rising inflation concerns and geopolitical tensions, which have caused investors to become more cautious. Many businesses are now adjusting their forecasts for the upcoming quarters as a result of \n",
    "these factors.\"\n",
    "\n",
    "It will then return the text in a summarized form\n",
    "\n",
    "**Example Output**:\n",
    "\n",
    "\"The stock market dropped 500 points due to rising inflation and geopolitic\n",
    "\n",
    "---\n",
    "\n",
    "### Current Deployment\n",
    "\n",
    "For this current deployment, it has been made to only accept 1 input and return 1 output per request\n",
    "\n",
    "Used the vllm method of deployment to deploy"
   ]
  },
  {
   "cell_type": "code",
   "execution_count": 27,
   "metadata": {},
   "outputs": [],
   "source": [
    "import requests"
   ]
  },
  {
   "cell_type": "code",
   "execution_count": 25,
   "metadata": {},
   "outputs": [],
   "source": [
    "triton_url = \"http://triton-route-triton-inference-services.apps.nebula.sl/v2/models/distilbart-cnn-12-6/infer\"\n",
    "\n",
    "payload = {\n",
    "    \"inputs\": [\n",
    "        {\n",
    "            \"name\": \"INPUT\",\n",
    "            \"shape\": [1], \n",
    "            \"datatype\": \"BYTES\",  # Make sure the datatype matches the input configuration\n",
    "            \"data\": [   \n",
    "                \"PG&E stated it scheduled the blackouts in response to forecasts for high winds amid dry conditions. The aim is to reduce the risk of wildfires. Nearly 800 thousand customers were scheduled to be affected by the shutoffs which were expected to last through at least midday tomorrow.\",\n",
    "            ]\n",
    "        }\n",
    "    ],\n",
    "    \"outputs\": [\n",
    "        {\n",
    "            \"name\": \"OUTPUT\"\n",
    "        }\n",
    "    ]\n",
    "}\n",
    "\n",
    "# Step 4: Send the POST request to Triton\n",
    "headers = {\"Content-Type\": \"application/json\"}\n",
    "response = requests.post(triton_url, json=payload, headers=headers)\n",
    "\n",
    "# Step 5: Handle the response\n",
    "if response.status_code == 200:\n",
    "    response_data = response.json()\n",
    "\n",
    "else:\n",
    "    print(f\"Error with Triton request. Status code: {response.status_code}\")\n",
    "    print(f\"Error message: {response.text}\")\n"
   ]
  },
  {
   "cell_type": "code",
   "execution_count": 26,
   "metadata": {},
   "outputs": [
    {
     "data": {
      "text/plain": [
       "{'name': 'OUTPUT',\n",
       " 'datatype': 'BYTES',\n",
       " 'shape': [1],\n",
       " 'data': [' PG&E scheduled the blackouts in response to forecasts for high winds amid dry conditions']}"
      ]
     },
     "execution_count": 26,
     "metadata": {},
     "output_type": "execute_result"
    }
   ],
   "source": [
    "response_data['outputs'][0]"
   ]
  },
  {
   "cell_type": "code",
   "execution_count": null,
   "metadata": {},
   "outputs": [],
   "source": []
  }
 ],
 "metadata": {
  "kernelspec": {
   "display_name": "env",
   "language": "python",
   "name": "python3"
  },
  "language_info": {
   "codemirror_mode": {
    "name": "ipython",
    "version": 3
   },
   "file_extension": ".py",
   "mimetype": "text/x-python",
   "name": "python",
   "nbconvert_exporter": "python",
   "pygments_lexer": "ipython3",
   "version": "3.12.0"
  }
 },
 "nbformat": 4,
 "nbformat_minor": 2
}
