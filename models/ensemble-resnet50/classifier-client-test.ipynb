{
 "cells": [
  {
   "cell_type": "code",
   "execution_count": 2,
   "metadata": {},
   "outputs": [],
   "source": [
    "import numpy as np\n",
    "from torchvision import transforms\n",
    "from PIL import Image\n",
    "import tritonclient.http as httpclient\n",
    "from tritonclient.utils import triton_to_np_dtype\n",
    "\n",
    "def rn50_preprocess(img_path=\"./img1.jpg\"):\n",
    "    img = Image.open(img_path)\n",
    "    preprocess = transforms.Compose([\n",
    "        transforms.Resize(256),\n",
    "        transforms.CenterCrop(224),\n",
    "        transforms.ToTensor(),\n",
    "        transforms.Normalize(mean=[0.485, 0.456, 0.406], std=[0.229, 0.224, 0.225]),\n",
    "    ])\n",
    "    return preprocess(img).numpy()\n",
    "\n",
    "transformed_img = np.expand_dims(rn50_preprocess(), axis=0)"
   ]
  },
  {
   "cell_type": "code",
   "execution_count": 6,
   "metadata": {},
   "outputs": [
    {
     "name": "stdout",
     "output_type": "stream",
     "text": [
      "['lorikeet' 'lorikeet' 'lorikeet']\n"
     ]
    }
   ],
   "source": [
    "# Setup a connection with the Triton Inference Server.\n",
    "triton_client = httpclient.InferenceServerClient(url=\"triton-classifier-route-triton-image-services.apps.babasaur.sl\")\n",
    "\n",
    "# Specify the names of the input and output layer(s) of our model.\n",
    "test_input = httpclient.InferInput(\"image\", transformed_img.shape, datatype=\"FP32\")\n",
    "test_input.set_data_from_numpy(transformed_img, binary_data=True)\n",
    "\n",
    "test_output = httpclient.InferRequestedOutput(\"final_output\", binary_data=False)\n",
    "\n",
    "# Querying the server\n",
    "results = triton_client.infer(model_name=\"ensemble-model\", inputs=[test_input], outputs=[test_output])\n",
    "test_output_fin = results.as_numpy('final_output')\n",
    "\n",
    "print(test_output_fin)"
   ]
  },
  {
   "cell_type": "code",
   "execution_count": null,
   "metadata": {},
   "outputs": [],
   "source": []
  }
 ],
 "metadata": {
  "kernelspec": {
   "display_name": "env",
   "language": "python",
   "name": "python3"
  },
  "language_info": {
   "codemirror_mode": {
    "name": "ipython",
    "version": 3
   },
   "file_extension": ".py",
   "mimetype": "text/x-python",
   "name": "python",
   "nbconvert_exporter": "python",
   "pygments_lexer": "ipython3",
   "version": "3.12.4"
  }
 },
 "nbformat": 4,
 "nbformat_minor": 2
}
