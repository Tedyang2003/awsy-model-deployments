{
 "cells": [
  {
   "cell_type": "code",
   "execution_count": 2,
   "metadata": {},
   "outputs": [],
   "source": [
    "import numpy as np\n",
    "from torchvision import transforms\n",
    "from PIL import Image\n",
    "import tritonclient.http as httpclient\n",
    "\n",
    "def rn50_preprocess(img_path=\"./img1.jpg\"):\n",
    "    img = Image.open(img_path)\n",
    "    preprocess = transforms.Compose([\n",
    "        transforms.Resize(256),\n",
    "        transforms.CenterCrop(224),\n",
    "        transforms.ToTensor(),\n",
    "        transforms.Normalize(mean=[0.485, 0.456, 0.406], std=[0.229, 0.224, 0.225]),\n",
    "    ])\n",
    "    return preprocess(img).numpy()\n",
    "\n",
    "transformed_img = np.expand_dims(rn50_preprocess(), axis=0)"
   ]
  },
  {
   "cell_type": "code",
   "execution_count": 1,
   "metadata": {},
   "outputs": [
    {
     "ename": "NameError",
     "evalue": "name 'httpclient' is not defined",
     "output_type": "error",
     "traceback": [
      "\u001b[1;31m---------------------------------------------------------------------------\u001b[0m",
      "\u001b[1;31mNameError\u001b[0m                                 Traceback (most recent call last)",
      "Cell \u001b[1;32mIn[1], line 2\u001b[0m\n\u001b[0;32m      1\u001b[0m \u001b[38;5;66;03m# Setup a connection with the Triton Inference Server.\u001b[39;00m\n\u001b[1;32m----> 2\u001b[0m triton_client \u001b[38;5;241m=\u001b[39m \u001b[43mhttpclient\u001b[49m\u001b[38;5;241m.\u001b[39mInferenceServerClient(url\u001b[38;5;241m=\u001b[39m\u001b[38;5;124m\"\u001b[39m\u001b[38;5;124mtriton-classifier-route-triton-image-deployments.apps.nebula.sl\u001b[39m\u001b[38;5;124m\"\u001b[39m)\n\u001b[0;32m      4\u001b[0m \u001b[38;5;66;03m# Specify the names of the input and output layer(s) of our model.\u001b[39;00m\n\u001b[0;32m      5\u001b[0m test_input \u001b[38;5;241m=\u001b[39m httpclient\u001b[38;5;241m.\u001b[39mInferInput(\u001b[38;5;124m\"\u001b[39m\u001b[38;5;124mimage\u001b[39m\u001b[38;5;124m\"\u001b[39m, transformed_img\u001b[38;5;241m.\u001b[39mshape, datatype\u001b[38;5;241m=\u001b[39m\u001b[38;5;124m\"\u001b[39m\u001b[38;5;124mFP32\u001b[39m\u001b[38;5;124m\"\u001b[39m)\n",
      "\u001b[1;31mNameError\u001b[0m: name 'httpclient' is not defined"
     ]
    }
   ],
   "source": [
    "# Setup a connection with the Triton Inference Server.\n",
    "triton_client = httpclient.InferenceServerClient(url=\"triton-classifier-route-triton-image-deployments.apps.nebula.sl\")\n",
    "\n",
    "# Specify the names of the input and output layer(s) of our model.\n",
    "test_input = httpclient.InferInput(\"image\", transformed_img.shape, datatype=\"FP32\")\n",
    "test_input.set_data_from_numpy(transformed_img, binary_data=True)\n",
    "\n",
    "test_output = httpclient.InferRequestedOutput(\"final_output\", binary_data=False)\n",
    "\n",
    "# Querying the server\n",
    "results = triton_client.infer(model_name=\"ensemble-model\", inputs=[test_input], outputs=[test_output])\n",
    "test_output_fin = results.as_numpy('final_output')\n",
    "\n",
    "print(test_output_fin)"
   ]
  },
  {
   "cell_type": "code",
   "execution_count": null,
   "metadata": {},
   "outputs": [],
   "source": []
  }
 ],
 "metadata": {
  "kernelspec": {
   "display_name": "env",
   "language": "python",
   "name": "python3"
  },
  "language_info": {
   "codemirror_mode": {
    "name": "ipython",
    "version": 3
   },
   "file_extension": ".py",
   "mimetype": "text/x-python",
   "name": "python",
   "nbconvert_exporter": "python",
   "pygments_lexer": "ipython3",
   "version": "3.12.0"
  }
 },
 "nbformat": 4,
 "nbformat_minor": 2
}
