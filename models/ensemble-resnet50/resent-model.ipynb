{
 "cells": [
  {
   "cell_type": "code",
   "execution_count": 2,
   "metadata": {},
   "outputs": [],
   "source": [
    "import torch\n",
    "import torchvision.models as models\n",
    "\n",
    "torch.hub._validate_not_a_forked_repo=lambda a,b,c: True\n",
    "\n",
    "# load model; We are going to use a pretrained resnet model\n",
    "model = models.resnet50(pretrained=True).eval()\n",
    "x = torch.randn(1, 3, 224, 224, requires_grad=True)\n",
    "\n",
    "# Export the model\n",
    "torch.onnx.export(model,                        # model being run\n",
    "                  x,                            # model input (or a tuple for multiple inputs)\n",
    "                  \"./classifier/model.onnx\",              # where to save the model (can be a file or file-like object)\n",
    "                  export_params=True,           # store the trained parameter weights inside the model file\n",
    "                  input_names = ['input'],      # the model's input names\n",
    "                  output_names = ['output'],    # the model's output names\n",
    "                  )\n",
    "                  \n",
    "# Export the model\n",
    "torch.onnx.export(model,                        # model being run\n",
    "                  x,                            # model input (or a tuple for multiple inputs)\n",
    "                  \"./classifier_2/model.onnx\",              # where to save the model (can be a file or file-like object)\n",
    "                  export_params=True,           # store the trained parameter weights inside the model file\n",
    "                  input_names = ['input'],      # the model's input names\n",
    "                  output_names = ['output_2'],    # the model's output names\n",
    "                  )\n",
    "\n",
    "torch.onnx.export(model,                        # model being run\n",
    "                  x,                            # model input (or a tuple for multiple inputs)\n",
    "                  \"./classifier_3/model.onnx\",              # where to save the model (can be a file or file-like object)\n",
    "                  export_params=True,           # store the trained parameter weights inside the model file\n",
    "                  input_names = ['input'],      # the model's input names\n",
    "                  output_names = ['output_3'],    # the model's output names\n",
    "                  )"
   ]
  },
  {
   "cell_type": "code",
   "execution_count": null,
   "metadata": {},
   "outputs": [],
   "source": []
  }
 ],
 "metadata": {
  "kernelspec": {
   "display_name": "env",
   "language": "python",
   "name": "python3"
  },
  "language_info": {
   "codemirror_mode": {
    "name": "ipython",
    "version": 3
   },
   "file_extension": ".py",
   "mimetype": "text/x-python",
   "name": "python",
   "nbconvert_exporter": "python",
   "pygments_lexer": "ipython3",
   "version": "3.12.0"
  }
 },
 "nbformat": 4,
 "nbformat_minor": 2
}
